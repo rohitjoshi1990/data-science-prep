{
 "cells": [
  {
   "cell_type": "markdown",
   "metadata": {},
   "source": [
    "#### A diagnostic test has a 98% probability of giving a positive result when applied to a person suffering from Thripshaw's Disease, and 10% probability of giving a (false) positive when applied to a non-sufferer. It is estimated that 0.5 % of the population are sufferers. Suppose that the test is now administered to a person whose disease status is unknown. Calculate the probability that the test will:\n",
    "\n",
    "1. Be positive\n",
    "\n",
    "2. Correctly diagnose a sufferer of Thripshaw's\n",
    "\n",
    "3. Correctly identify a non-sufferer of Thripshaw's\n",
    "\n",
    "4. Misclassify the person\n"
   ]
  },
  {
   "cell_type": "markdown",
   "metadata": {},
   "source": [
    "P(% population who are sufferers) = 0.005\n",
    "\n",
    "P(true pos/sufferer) = 0.98*0.005 = 0.0049\n",
    "\n",
    "P(false pos/sufferer) = 0.02*0.005 = 0.0001\n",
    "\n",
    "P(% population who are not sufferers) = 0.995\n",
    "\n",
    "P(true pos/non sufferer) = 0.90*0.995 = 0.8955\n",
    "\n",
    "P(false pos/non sufferer) = 0.10*0.995 = 0.0995\n"
   ]
  },
  {
   "cell_type": "markdown",
   "metadata": {},
   "source": [
    "1) P(positive) = P(true pos/sufferer) + P(true pos/non sufferer) = 0.0049 + 0.8955 = 0.9004 = 90.04%"
   ]
  },
  {
   "cell_type": "markdown",
   "metadata": {},
   "source": [
    "2) P(correctly diagnose a sufferer) = P(true pos/sufferer) = 0.0049 = 0.49%"
   ]
  },
  {
   "cell_type": "markdown",
   "metadata": {},
   "source": [
    "3) P(correctly identify a non-sufferer) = P(true pos/non sufferer) = 0.8955 = 89%"
   ]
  },
  {
   "cell_type": "markdown",
   "metadata": {},
   "source": [
    "4) P(misclassify) = 1 - P(positive) = 0.0996 = 9.96%"
   ]
  }
 ],
 "metadata": {
  "anaconda-cloud": {},
  "kernelspec": {
   "display_name": "Python [conda root]",
   "language": "python",
   "name": "conda-root-py"
  },
  "language_info": {
   "codemirror_mode": {
    "name": "ipython",
    "version": 3
   },
   "file_extension": ".py",
   "mimetype": "text/x-python",
   "name": "python",
   "nbconvert_exporter": "python",
   "pygments_lexer": "ipython3",
   "version": "3.5.2"
  }
 },
 "nbformat": 4,
 "nbformat_minor": 1
}
