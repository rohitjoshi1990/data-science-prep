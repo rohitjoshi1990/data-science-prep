{
 "cells": [
  {
   "cell_type": "code",
   "execution_count": 135,
   "metadata": {
    "collapsed": false
   },
   "outputs": [],
   "source": [
    "import pandas as pd\n",
    "import numpy as np\n",
    "from random import randrange\n",
    "import json\n",
    "import matplotlib.pyplot as plt\n",
    "%matplotlib inline "
   ]
  },
  {
   "cell_type": "code",
   "execution_count": 79,
   "metadata": {
    "collapsed": true
   },
   "outputs": [],
   "source": [
    "def json_keys_to_csv_string(json_obj, delimiter):\n",
    "    csv_line=''\n",
    "    for key in json_obj.keys():\n",
    "        csv_line+=key\n",
    "        csv_line+=delimiter\n",
    "    csv_line=csv_line[:-len(delimiter)]\n",
    "    return csv_line\n",
    "\n",
    "def json_values_to_csv_string(json_obj, col_names, delimiter):\n",
    "    csv_line=''\n",
    "    for key in col_names:\n",
    "        csv_line+=str(json_obj.get(key))\n",
    "        csv_line+=delimiter\n",
    "    csv_line=csv_line[:-len(delimiter)]\n",
    "    return csv_line\n",
    "\n",
    "\n",
    "def json_to_csv(input_file_name, output_file_name, delimiter):\n",
    "    col_names = None;\n",
    "    with open(input_file_name, 'r') as istr:\n",
    "        with open(output_file_name, 'w') as ostr:\n",
    "            for i, line in enumerate(istr):\n",
    "                # Get rid of the trailing newline (if any).\n",
    "                line = line.rstrip('\\n')\n",
    "                csv_line = None\n",
    "                \n",
    "                json_obj = json.loads(line)\n",
    "                \n",
    "                #load headers\n",
    "                if col_names is None:\n",
    "                    col_names = json_obj.keys()\n",
    "                    csv_line = json_keys_to_csv_string(json_obj, delimiter)\n",
    "                    print(csv_line, file=ostr)\n",
    "                \n",
    "                #load values\n",
    "                csv_line = None\n",
    "                csv_line = json_values_to_csv_string(json_obj, col_names, delimiter)\n",
    "                print(csv_line, file=ostr)"
   ]
  },
  {
   "cell_type": "code",
   "execution_count": 87,
   "metadata": {
    "collapsed": true
   },
   "outputs": [],
   "source": [
    "def sample_csv(input_file_name, output_file_name, sample_size, total_size):\n",
    "    random_indexes = set()\n",
    "    while(len(random_indexes)!=sample_size):\n",
    "        random_indexes.add(randrange(1,total_size+1))\n",
    "        \n",
    "    with open(input_file_name, 'r') as istr:\n",
    "        with open(output_file_name, 'w') as ostr:\n",
    "            for i, line in enumerate(istr):\n",
    "                if (i in random_indexes) or (i==0):\n",
    "                    line = line.rstrip('\\n')\n",
    "                    print(line, file=ostr)"
   ]
  },
  {
   "cell_type": "code",
   "execution_count": 92,
   "metadata": {
    "collapsed": true
   },
   "outputs": [],
   "source": [
    "def csv_to_df(input_file_name, delimiter):\n",
    "    return pd.read_csv(input_file_name, delimiter=delimiter)"
   ]
  },
  {
   "cell_type": "code",
   "execution_count": 81,
   "metadata": {
    "collapsed": false
   },
   "outputs": [],
   "source": [
    "input_file_name = '/Users/rohitjoshi/thinkful/data-science-prep/reviews_Movies_and_TV_5.json'\n",
    "output_file_name = '/Users/rohitjoshi/thinkful/data-science-prep/reviews_Movies_and_TV_5.csv'\n",
    "#json_to_csv(input_file_name,output_file_name, '@--@')"
   ]
  },
  {
   "cell_type": "code",
   "execution_count": 90,
   "metadata": {
    "collapsed": false
   },
   "outputs": [],
   "source": [
    "input_file_name = '/Users/rohitjoshi/thinkful/data-science-prep/reviews_Movies_and_TV_5.csv'\n",
    "output_file_name = '/Users/rohitjoshi/thinkful/data-science-prep/reviews_Movies_and_TV_5_sample.csv'\n",
    "#sample_csv(input_file_name,output_file_name, 10000, 1500000)"
   ]
  },
  {
   "cell_type": "code",
   "execution_count": 93,
   "metadata": {
    "collapsed": false
   },
   "outputs": [
    {
     "name": "stderr",
     "output_type": "stream",
     "text": [
      "/Users/rohitjoshi/anaconda3/lib/python3.5/site-packages/ipykernel/__main__.py:2: ParserWarning: Falling back to the 'python' engine because the 'c' engine does not support regex separators (separators > 1 char and different from '\\s+' are interpreted as regex); you can avoid this warning by specifying engine='python'.\n",
      "  from ipykernel import kernelapp as app\n"
     ]
    }
   ],
   "source": [
    "input_file_name = '/Users/rohitjoshi/thinkful/data-science-prep/reviews_Movies_and_TV_5_sample.csv'\n",
    "df = csv_to_df(input_file_name, '@--@')"
   ]
  },
  {
   "cell_type": "code",
   "execution_count": 130,
   "metadata": {
    "collapsed": false
   },
   "outputs": [
    {
     "data": {
      "text/html": [
       "<div>\n",
       "<table border=\"1\" class=\"dataframe\">\n",
       "  <thead>\n",
       "    <tr style=\"text-align: right;\">\n",
       "      <th></th>\n",
       "      <th>asin</th>\n",
       "      <th>unixReviewTime</th>\n",
       "      <th>reviewText</th>\n",
       "      <th>overall</th>\n",
       "      <th>helpful</th>\n",
       "      <th>reviewerName</th>\n",
       "      <th>reviewerID</th>\n",
       "      <th>summary</th>\n",
       "      <th>reviewTime</th>\n",
       "    </tr>\n",
       "  </thead>\n",
       "  <tbody>\n",
       "    <tr>\n",
       "      <th>0</th>\n",
       "      <td>0307142469</td>\n",
       "      <td>976320000</td>\n",
       "      <td>This delightful 1969 animation based on the po...</td>\n",
       "      <td>4.0</td>\n",
       "      <td>[9, 11]</td>\n",
       "      <td>\"flickjunkie\"</td>\n",
       "      <td>A3CWH6VKCTJAD</td>\n",
       "      <td>A Christmas classic</td>\n",
       "      <td>12 9, 2000</td>\n",
       "    </tr>\n",
       "    <tr>\n",
       "      <th>1</th>\n",
       "      <td>0307142485</td>\n",
       "      <td>1097366400</td>\n",
       "      <td>If you love the Rankin-Bass version of this cl...</td>\n",
       "      <td>1.0</td>\n",
       "      <td>[35, 40]</td>\n",
       "      <td>L. M Young</td>\n",
       "      <td>A2NLIB986TEESZ</td>\n",
       "      <td>Not The Aaron I Remember</td>\n",
       "      <td>10 10, 2004</td>\n",
       "    </tr>\n",
       "  </tbody>\n",
       "</table>\n",
       "</div>"
      ],
      "text/plain": [
       "         asin  unixReviewTime  \\\n",
       "0  0307142469       976320000   \n",
       "1  0307142485      1097366400   \n",
       "\n",
       "                                          reviewText  overall   helpful  \\\n",
       "0  This delightful 1969 animation based on the po...      4.0   [9, 11]   \n",
       "1  If you love the Rankin-Bass version of this cl...      1.0  [35, 40]   \n",
       "\n",
       "    reviewerName      reviewerID                   summary   reviewTime  \n",
       "0  \"flickjunkie\"   A3CWH6VKCTJAD       A Christmas classic   12 9, 2000  \n",
       "1     L. M Young  A2NLIB986TEESZ  Not The Aaron I Remember  10 10, 2004  "
      ]
     },
     "execution_count": 130,
     "metadata": {},
     "output_type": "execute_result"
    }
   ],
   "source": [
    "df.ix[:1,:]"
   ]
  },
  {
   "cell_type": "code",
   "execution_count": 131,
   "metadata": {
    "collapsed": false
   },
   "outputs": [
    {
     "data": {
      "text/html": [
       "<div>\n",
       "<table border=\"1\" class=\"dataframe\">\n",
       "  <thead>\n",
       "    <tr style=\"text-align: right;\">\n",
       "      <th></th>\n",
       "      <th>overall</th>\n",
       "    </tr>\n",
       "  </thead>\n",
       "  <tbody>\n",
       "    <tr>\n",
       "      <th>0</th>\n",
       "      <td>4.0</td>\n",
       "    </tr>\n",
       "    <tr>\n",
       "      <th>1</th>\n",
       "      <td>1.0</td>\n",
       "    </tr>\n",
       "    <tr>\n",
       "      <th>2</th>\n",
       "      <td>5.0</td>\n",
       "    </tr>\n",
       "    <tr>\n",
       "      <th>3</th>\n",
       "      <td>1.0</td>\n",
       "    </tr>\n",
       "    <tr>\n",
       "      <th>4</th>\n",
       "      <td>5.0</td>\n",
       "    </tr>\n",
       "    <tr>\n",
       "      <th>5</th>\n",
       "      <td>5.0</td>\n",
       "    </tr>\n",
       "    <tr>\n",
       "      <th>6</th>\n",
       "      <td>4.0</td>\n",
       "    </tr>\n",
       "    <tr>\n",
       "      <th>7</th>\n",
       "      <td>1.0</td>\n",
       "    </tr>\n",
       "    <tr>\n",
       "      <th>8</th>\n",
       "      <td>5.0</td>\n",
       "    </tr>\n",
       "    <tr>\n",
       "      <th>9</th>\n",
       "      <td>5.0</td>\n",
       "    </tr>\n",
       "    <tr>\n",
       "      <th>10</th>\n",
       "      <td>5.0</td>\n",
       "    </tr>\n",
       "  </tbody>\n",
       "</table>\n",
       "</div>"
      ],
      "text/plain": [
       "    overall\n",
       "0       4.0\n",
       "1       1.0\n",
       "2       5.0\n",
       "3       1.0\n",
       "4       5.0\n",
       "5       5.0\n",
       "6       4.0\n",
       "7       1.0\n",
       "8       5.0\n",
       "9       5.0\n",
       "10      5.0"
      ]
     },
     "execution_count": 131,
     "metadata": {},
     "output_type": "execute_result"
    }
   ],
   "source": [
    "df.ix[:10,3:4]"
   ]
  },
  {
   "cell_type": "code",
   "execution_count": 111,
   "metadata": {
    "collapsed": false
   },
   "outputs": [
    {
     "data": {
      "text/plain": [
       "<matplotlib.text.Text at 0x114f55080>"
      ]
     },
     "execution_count": 111,
     "metadata": {},
     "output_type": "execute_result"
    },
    {
     "data": {
      "image/png": "[encoded data removed]",
      "text/plain": [
       "<matplotlib.figure.Figure at 0x109badba8>"
      ]
     },
     "metadata": {},
     "output_type": "display_data"
    }
   ],
   "source": [
    "plt.plot(df.ix[:,3:4], color = \"black\")\n",
    "plt.ylabel('Rating')\n",
    "plt.title('Movie Ratings')\n"
   ]
  },
  {
   "cell_type": "code",
   "execution_count": 152,
   "metadata": {
    "collapsed": false
   },
   "outputs": [
    {
     "data": {
      "image/png": "[encoded data removed]",
      "text/plain": [
       "<matplotlib.figure.Figure at 0x11d0ede80>"
      ]
     },
     "metadata": {},
     "output_type": "display_data"
    }
   ],
   "source": [
    "plt.figure(figsize=(5,5))\n",
    "plt.subplot(2, 1, 1)\n",
    "plt.scatter(x=np.arange(num_of_rows+1), y=df.ix[:num_of_rows,3:4], color = \"black\", marker = 'x', s = 10)\n",
    "plt.ylabel('Rating')\n",
    "plt.title('Movie Ratings')\n",
    "\n",
    "plt.subplot(2, 1, 2)\n",
    "plt.scatter(x=np.arange(num_of_rows+1), y=df.ix[:num_of_rows,3:4], color = \"black\", marker = 'x', s = 10)\n",
    "plt.ylabel('Rating')\n",
    "plt.title('Movie Ratings')\n",
    "\n",
    "plt.tight_layout()"
   ]
  },
  {
   "cell_type": "code",
   "execution_count": 169,
   "metadata": {
    "collapsed": false
   },
   "outputs": [
    {
     "data": {
      "text/plain": [
       "array([[<matplotlib.axes._subplots.AxesSubplot object at 0x127e8ba90>]], dtype=object)"
      ]
     },
     "execution_count": 169,
     "metadata": {},
     "output_type": "execute_result"
    },
    {
     "data": {
      "image/png": "[encoded data removed]",
      "text/plain": [
       "<matplotlib.figure.Figure at 0x127e90748>"
      ]
     },
     "metadata": {},
     "output_type": "display_data"
    }
   ],
   "source": [
    "df.ix[:,3:4].hist()"
   ]
  },
  {
   "cell_type": "code",
   "execution_count": null,
   "metadata": {
    "collapsed": true
   },
   "outputs": [],
   "source": []
  }
 ],
 "metadata": {
  "kernelspec": {
   "display_name": "Python [conda root]",
   "language": "python",
   "name": "conda-root-py"
  },
  "language_info": {
   "codemirror_mode": {
    "name": "ipython",
    "version": 3
   },
   "file_extension": ".py",
   "mimetype": "text/x-python",
   "name": "python",
   "nbconvert_exporter": "python",
   "pygments_lexer": "ipython3",
   "version": "3.5.2"
  }
 },
 "nbformat": 4,
 "nbformat_minor": 1
}
