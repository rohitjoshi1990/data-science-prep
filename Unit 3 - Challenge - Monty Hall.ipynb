{
 "cells": [
  {
   "cell_type": "markdown",
   "metadata": {},
   "source": [
    "### You are on a game show and given the choice of whatever is behind three doors. Behind one door is a fantastic prize (some examples use a car, others use cash) while behind the other two doors is a dud (some examples say a goat, others say it's just empty). You pick a door. Then the host opens one of the other two doors to reveal a dud. But here's the wrinkle: the host now gives you the opportunity to switch your door. What should you do?"
   ]
  },
  {
   "cell_type": "markdown",
   "metadata": {
    "collapsed": true
   },
   "source": [
    "Let \n",
    "D1 = Event opening Door1\n",
    "D2 = Event opening Door2\n",
    "D3 = Event opening Door3\n",
    "\n",
    "C1 = Car behind Door1\n",
    "C2 = Car behind Door2\n",
    "C3 = Car behind Door3\n",
    "\n",
    "P(C1)=P(C2)=P(C3)=1/3\n",
    "\n",
    "Let us assume that D3 has a DUD\n",
    "And we pick D1\n",
    "\n",
    "P(D3/C1) = 1/2 since he has Door 2 and 3 to select from\n",
    "P(D3/C2) = 1 since he has only Door 2 to select from\n",
    "\n",
    "P(C1/D3) = P(C1) * P(D3/C1) / P(D3) = 1/3 * 1/2 / 1/2 = 1/3\n",
    "P(C2/D3) = P(C2) * P(D3/C2) / P(D3) = 1/3 * 1 / 1/2 = 2/3\n",
    "\n",
    "Hence, picking a new door is a better option"
   ]
  }
 ],
 "metadata": {
  "anaconda-cloud": {},
  "kernelspec": {
   "display_name": "Python [conda root]",
   "language": "python",
   "name": "conda-root-py"
  },
  "language_info": {
   "codemirror_mode": {
    "name": "ipython",
    "version": 3
   },
   "file_extension": ".py",
   "mimetype": "text/x-python",
   "name": "python",
   "nbconvert_exporter": "python",
   "pygments_lexer": "ipython3",
   "version": "3.5.2"
  }
 },
 "nbformat": 4,
 "nbformat_minor": 1
}
